{
 "cells": [
  {
   "cell_type": "markdown",
   "id": "727f0c11-76f3-4650-8bf5-5c0dc8cf8674",
   "metadata": {},
   "source": [
    "# Grids, Fields, and operations\n",
    "\n",
    "Let's get into it."
   ]
  },
  {
   "cell_type": "markdown",
   "id": "b48480da-80c4-49ed-931c-5c76480f9762",
   "metadata": {},
   "source": [
    "## Grids\n",
    "\n",
    "There are two primary kinds of grids:"
   ]
  },
  {
   "cell_type": "code",
   "execution_count": 104,
   "id": "a6f83a5d-b21a-4a42-b596-0d0556d4e33c",
   "metadata": {},
   "outputs": [
    {
     "data": {
      "text/plain": [
       "2×3×4 RectilinearGrid{Float64, Periodic, Periodic, Bounded} on CPU with 2×3×3 halo\n",
       "├── Periodic x ∈ [0.0, 3.0) regularly spaced with Δx=1.5\n",
       "├── Periodic y ∈ [0.0, 2.0) regularly spaced with Δy=0.666667\n",
       "└── Bounded  z ∈ [0.0, 1.0] regularly spaced with Δz=0.25"
      ]
     },
     "execution_count": 104,
     "metadata": {},
     "output_type": "execute_result"
    }
   ],
   "source": [
    "rectilinear_grid = RectilinearGrid(size = (2, 3, 4),\n",
    "                                   x = (0, 3),\n",
    "                                   y = (0, 2),\n",
    "                                   z = (0, 1),\n",
    "                                   topology = (Periodic, Periodic, Bounded))"
   ]
  },
  {
   "cell_type": "code",
   "execution_count": 105,
   "id": "1d88ffd4-329d-40df-a2fb-f1500b821a0b",
   "metadata": {},
   "outputs": [
    {
     "data": {
      "text/plain": [
       "60×30×1 LatitudeLongitudeGrid{Float64, Periodic, Bounded, Bounded} on CPU with 3×3×1 halo and with precomputed metrics\n",
       "├── longitude: Periodic λ ∈ [0.0, 60.0)   regularly spaced with Δλ=1.0\n",
       "├── latitude:  Bounded  φ ∈ [-30.0, 30.0] regularly spaced with Δφ=2.0\n",
       "└── z:         Bounded  z ∈ [-1.0, 0.0]   regularly spaced with Δz=1.0"
      ]
     },
     "execution_count": 105,
     "metadata": {},
     "output_type": "execute_result"
    }
   ],
   "source": [
    "latitude_longitude_grid = LatitudeLongitudeGrid(size = (60, 30, 1),\n",
    "                                                longitude = (0, 60),\n",
    "                                                latitude = (-30, 30),\n",
    "                                                z = (-1, 0),\n",
    "                                                topology = (Periodic, Bounded, Bounded))"
   ]
  },
  {
   "cell_type": "markdown",
   "id": "dff27551-73e5-4a34-b200-91cfaebaed6b",
   "metadata": {},
   "source": [
    "Another important grid is `OrthogonalSphericalShellGrid` but this is a bit of a WIP.\n",
    "\n",
    "Let's work with the rectilinear grid for the rest of the tutorial."
   ]
  },
  {
   "cell_type": "code",
   "execution_count": 106,
   "id": "9d4a22ae-11e9-4ff6-8448-f4efa812d9b9",
   "metadata": {},
   "outputs": [
    {
     "data": {
      "text/plain": [
       "2×3×4 RectilinearGrid{Float64, Periodic, Periodic, Bounded} on CPU with 2×3×3 halo\n",
       "├── Periodic x ∈ [0.0, 3.0) regularly spaced with Δx=1.5\n",
       "├── Periodic y ∈ [0.0, 2.0) regularly spaced with Δy=0.666667\n",
       "└── Bounded  z ∈ [0.0, 1.0] regularly spaced with Δz=0.25"
      ]
     },
     "execution_count": 106,
     "metadata": {},
     "output_type": "execute_result"
    }
   ],
   "source": [
    "grid = rectilinear_grid"
   ]
  },
  {
   "cell_type": "markdown",
   "id": "a2bed6c2-1d26-4051-8302-6b2df5b6134f",
   "metadata": {},
   "source": [
    "## Fields\n",
    "\n",
    "With a grid we can start making `Field`.\n",
    "Every `Field` has a location in each direction on the staggered grid.\n",
    "The location of a `Field` is described by a 3-tuple; for example tracers in Oceananigans\n",
    "are located at `(Center, Center, Center)`. Fields like tracers can be constructed using the shorthand `CenterField`,"
   ]
  },
  {
   "cell_type": "code",
   "execution_count": 107,
   "id": "101df952-4171-4679-8dc6-980aca4695fc",
   "metadata": {},
   "outputs": [
    {
     "data": {
      "text/plain": [
       "2×3×4 Field{Center, Center, Center} on RectilinearGrid on CPU\n",
       "├── grid: 2×3×4 RectilinearGrid{Float64, Periodic, Periodic, Bounded} on CPU with 2×3×3 halo\n",
       "├── boundary conditions: FieldBoundaryConditions\n",
       "│   └── west: Periodic, east: Periodic, south: Periodic, north: Periodic, bottom: ZeroFlux, top: ZeroFlux, immersed: ZeroFlux\n",
       "└── data: 6×9×10 OffsetArray(::Array{Float64, 3}, -1:4, -2:6, -2:7) with eltype Float64 with indices -1:4×-2:6×-2:7\n",
       "    └── max=0.0, min=0.0, mean=0.0"
      ]
     },
     "execution_count": 107,
     "metadata": {},
     "output_type": "execute_result"
    }
   ],
   "source": [
    "c = CenterField(grid)"
   ]
  },
  {
   "cell_type": "markdown",
   "id": "a18ac116-8178-4a1f-9bac-1b3f5cb3d761",
   "metadata": {},
   "source": [
    "As another example, in the \"C-grid\" discretization the velocity component in the x-direction is located at cell interfaces in $x$, such that"
   ]
  },
  {
   "cell_type": "code",
   "execution_count": 108,
   "id": "80b7a74d-2289-4671-84a3-4f94f70ff6af",
   "metadata": {},
   "outputs": [
    {
     "data": {
      "text/plain": [
       "2×3×4 Field{Face, Center, Center} on RectilinearGrid on CPU\n",
       "├── grid: 2×3×4 RectilinearGrid{Float64, Periodic, Periodic, Bounded} on CPU with 2×3×3 halo\n",
       "├── boundary conditions: FieldBoundaryConditions\n",
       "│   └── west: Periodic, east: Periodic, south: Periodic, north: Periodic, bottom: ZeroFlux, top: ZeroFlux, immersed: ZeroFlux\n",
       "└── data: 6×9×10 OffsetArray(::Array{Float64, 3}, -1:4, -2:6, -2:7) with eltype Float64 with indices -1:4×-2:6×-2:7\n",
       "    └── max=0.0, min=0.0, mean=0.0"
      ]
     },
     "execution_count": 108,
     "metadata": {},
     "output_type": "execute_result"
    }
   ],
   "source": [
    "u = Field{Face, Center, Center}(grid)"
   ]
  },
  {
   "cell_type": "markdown",
   "id": "9bdbd5f1-5f2d-42ae-8755-15c6db7f5fa1",
   "metadata": {},
   "source": [
    "### Setting `Field` data\n",
    "\n",
    "`Field`s aren't useful until you can set their values.\n",
    "`Field`s can be set with constants,"
   ]
  },
  {
   "cell_type": "code",
   "execution_count": 109,
   "id": "1c316011-9907-4b72-bdc1-27ab3fed9457",
   "metadata": {},
   "outputs": [
    {
     "data": {
      "text/plain": [
       "2×3×4 Field{Center, Center, Center} on RectilinearGrid on CPU\n",
       "├── grid: 2×3×4 RectilinearGrid{Float64, Periodic, Periodic, Bounded} on CPU with 2×3×3 halo\n",
       "├── boundary conditions: FieldBoundaryConditions\n",
       "│   └── west: Periodic, east: Periodic, south: Periodic, north: Periodic, bottom: ZeroFlux, top: ZeroFlux, immersed: ZeroFlux\n",
       "└── data: 6×9×10 OffsetArray(::Array{Float64, 3}, -1:4, -2:6, -2:7) with eltype Float64 with indices -1:4×-2:6×-2:7\n",
       "    └── max=1.0, min=1.0, mean=1.0"
      ]
     },
     "execution_count": 109,
     "metadata": {},
     "output_type": "execute_result"
    }
   ],
   "source": [
    "set!(c, 1)"
   ]
  },
  {
   "cell_type": "markdown",
   "id": "77a569e3-d3ee-4acb-9b70-becb1a4c1017",
   "metadata": {},
   "source": [
    "functions,"
   ]
  },
  {
   "cell_type": "code",
   "execution_count": 110,
   "id": "45e5a7fd-53e2-4f07-8f73-6b312e05d40b",
   "metadata": {},
   "outputs": [
    {
     "data": {
      "text/plain": [
       "2×3×4 Field{Center, Center, Center} on RectilinearGrid on CPU\n",
       "├── grid: 2×3×4 RectilinearGrid{Float64, Periodic, Periodic, Bounded} on CPU with 2×3×3 halo\n",
       "├── boundary conditions: FieldBoundaryConditions\n",
       "│   └── west: Periodic, east: Periodic, south: Periodic, north: Periodic, bottom: ZeroFlux, top: ZeroFlux, immersed: ZeroFlux\n",
       "└── data: 6×9×10 OffsetArray(::Array{Float64, 3}, -1:4, -2:6, -2:7) with eltype Float64 with indices -1:4×-2:6×-2:7\n",
       "    └── max=2.5106, min=-2.06922, mean=0.168609"
      ]
     },
     "execution_count": 110,
     "metadata": {},
     "output_type": "execute_result"
    }
   ],
   "source": [
    "random_data(x, y, z) = randn()\n",
    "set!(c, random_data)"
   ]
  },
  {
   "cell_type": "markdown",
   "id": "3ae990b7-78c8-4cc1-b9d2-2077c08f0143",
   "metadata": {},
   "source": [
    "and arrays,"
   ]
  },
  {
   "cell_type": "code",
   "execution_count": 111,
   "id": "3587095d-f284-43ce-b970-48f2ae17e4ed",
   "metadata": {},
   "outputs": [
    {
     "data": {
      "text/plain": [
       "2×3×4 Field{Center, Center, Center} on RectilinearGrid on CPU\n",
       "├── grid: 2×3×4 RectilinearGrid{Float64, Periodic, Periodic, Bounded} on CPU with 2×3×3 halo\n",
       "├── boundary conditions: FieldBoundaryConditions\n",
       "│   └── west: Periodic, east: Periodic, south: Periodic, north: Periodic, bottom: ZeroFlux, top: ZeroFlux, immersed: ZeroFlux\n",
       "└── data: 6×9×10 OffsetArray(::Array{Float64, 3}, -1:4, -2:6, -2:7) with eltype Float64 with indices -1:4×-2:6×-2:7\n",
       "    └── max=0.997478, min=0.0767212, mean=0.396486"
      ]
     },
     "execution_count": 111,
     "metadata": {},
     "output_type": "execute_result"
    }
   ],
   "source": [
    "random_array = rand(size(c)...)\n",
    "set!(c, random_array)"
   ]
  },
  {
   "cell_type": "markdown",
   "id": "b4f71a5e-0ad1-421e-bbef-b9c845a02c49",
   "metadata": {},
   "source": [
    "`Field` values can be inspected by indexing,"
   ]
  },
  {
   "cell_type": "code",
   "execution_count": 112,
   "id": "c6871fca-918c-4d59-a5f2-d7149ea43205",
   "metadata": {},
   "outputs": [
    {
     "data": {
      "text/plain": [
       "0.5497478509170294"
      ]
     },
     "execution_count": 112,
     "metadata": {},
     "output_type": "execute_result"
    }
   ],
   "source": [
    "c[1, 1, 1]"
   ]
  },
  {
   "cell_type": "markdown",
   "id": "ff3f97f4-dde4-4cc5-a5ab-2dbd466c6004",
   "metadata": {},
   "source": [
    "but note that this won't work on the GPU (or rather, it is very slow and it will throw an error).\n",
    "The values of a `Field` are stored in `Field.data`,"
   ]
  },
  {
   "cell_type": "code",
   "execution_count": 113,
   "id": "fe3a450a-142a-42bd-945c-d7a616ef0148",
   "metadata": {},
   "outputs": [
    {
     "data": {
      "text/plain": [
       "6×9×10 OffsetArray(::Array{Float64, 3}, -1:4, -2:6, -2:7) with eltype Float64 with indices -1:4×-2:6×-2:7:\n",
       "[:, :, -2] =\n",
       " 0.0  0.0  0.0  0.0  0.0  0.0  0.0  0.0  0.0\n",
       " 0.0  0.0  0.0  0.0  0.0  0.0  0.0  0.0  0.0\n",
       " 0.0  0.0  0.0  0.0  0.0  0.0  0.0  0.0  0.0\n",
       " 0.0  0.0  0.0  0.0  0.0  0.0  0.0  0.0  0.0\n",
       " 0.0  0.0  0.0  0.0  0.0  0.0  0.0  0.0  0.0\n",
       " 0.0  0.0  0.0  0.0  0.0  0.0  0.0  0.0  0.0\n",
       "\n",
       "[:, :, -1] =\n",
       " 0.0  0.0  0.0  0.0  0.0  0.0  0.0  0.0  0.0\n",
       " 0.0  0.0  0.0  0.0  0.0  0.0  0.0  0.0  0.0\n",
       " 0.0  0.0  0.0  0.0  0.0  0.0  0.0  0.0  0.0\n",
       " 0.0  0.0  0.0  0.0  0.0  0.0  0.0  0.0  0.0\n",
       " 0.0  0.0  0.0  0.0  0.0  0.0  0.0  0.0  0.0\n",
       " 0.0  0.0  0.0  0.0  0.0  0.0  0.0  0.0  0.0\n",
       "\n",
       "[:, :, 0] =\n",
       " 0.0  0.0  0.0  0.0  0.0  0.0  0.0  0.0  0.0\n",
       " 0.0  0.0  0.0  0.0  0.0  0.0  0.0  0.0  0.0\n",
       " 0.0  0.0  0.0  0.0  0.0  0.0  0.0  0.0  0.0\n",
       " 0.0  0.0  0.0  0.0  0.0  0.0  0.0  0.0  0.0\n",
       " 0.0  0.0  0.0  0.0  0.0  0.0  0.0  0.0  0.0\n",
       " 0.0  0.0  0.0  0.0  0.0  0.0  0.0  0.0  0.0\n",
       "\n",
       "[:, :, 1] =\n",
       " 0.0  0.0  0.0  0.0       0.0       0.0       0.0  0.0  0.0\n",
       " 0.0  0.0  0.0  0.0       0.0       0.0       0.0  0.0  0.0\n",
       " 0.0  0.0  0.0  0.549748  0.151851  0.552482  0.0  0.0  0.0\n",
       " 0.0  0.0  0.0  0.401002  0.930264  0.155449  0.0  0.0  0.0\n",
       " 0.0  0.0  0.0  0.0       0.0       0.0       0.0  0.0  0.0\n",
       " 0.0  0.0  0.0  0.0       0.0       0.0       0.0  0.0  0.0\n",
       "\n",
       "[:, :, 2] =\n",
       " 0.0  0.0  0.0  0.0       0.0       0.0        0.0  0.0  0.0\n",
       " 0.0  0.0  0.0  0.0       0.0       0.0        0.0  0.0  0.0\n",
       " 0.0  0.0  0.0  0.17789   0.145093  0.203142   0.0  0.0  0.0\n",
       " 0.0  0.0  0.0  0.323462  0.367217  0.0767212  0.0  0.0  0.0\n",
       " 0.0  0.0  0.0  0.0       0.0       0.0        0.0  0.0  0.0\n",
       " 0.0  0.0  0.0  0.0       0.0       0.0        0.0  0.0  0.0\n",
       "\n",
       "[:, :, 3] =\n",
       " 0.0  0.0  0.0  0.0       0.0       0.0       0.0  0.0  0.0\n",
       " 0.0  0.0  0.0  0.0       0.0       0.0       0.0  0.0  0.0\n",
       " 0.0  0.0  0.0  0.358593  0.95973   0.399396  0.0  0.0  0.0\n",
       " 0.0  0.0  0.0  0.997478  0.193344  0.116034  0.0  0.0  0.0\n",
       " 0.0  0.0  0.0  0.0       0.0       0.0       0.0  0.0  0.0\n",
       " 0.0  0.0  0.0  0.0       0.0       0.0       0.0  0.0  0.0\n",
       "\n",
       "[:, :, 4] =\n",
       " 0.0  0.0  0.0  0.0       0.0       0.0       0.0  0.0  0.0\n",
       " 0.0  0.0  0.0  0.0       0.0       0.0       0.0  0.0  0.0\n",
       " 0.0  0.0  0.0  0.775553  0.100869  0.160673  0.0  0.0  0.0\n",
       " 0.0  0.0  0.0  0.315062  0.541775  0.562844  0.0  0.0  0.0\n",
       " 0.0  0.0  0.0  0.0       0.0       0.0       0.0  0.0  0.0\n",
       " 0.0  0.0  0.0  0.0       0.0       0.0       0.0  0.0  0.0\n",
       "\n",
       "[:, :, 5] =\n",
       " 0.0  0.0  0.0  0.0  0.0  0.0  0.0  0.0  0.0\n",
       " 0.0  0.0  0.0  0.0  0.0  0.0  0.0  0.0  0.0\n",
       " 0.0  0.0  0.0  0.0  0.0  0.0  0.0  0.0  0.0\n",
       " 0.0  0.0  0.0  0.0  0.0  0.0  0.0  0.0  0.0\n",
       " 0.0  0.0  0.0  0.0  0.0  0.0  0.0  0.0  0.0\n",
       " 0.0  0.0  0.0  0.0  0.0  0.0  0.0  0.0  0.0\n",
       "\n",
       "[:, :, 6] =\n",
       " 0.0  0.0  0.0  0.0  0.0  0.0  0.0  0.0  0.0\n",
       " 0.0  0.0  0.0  0.0  0.0  0.0  0.0  0.0  0.0\n",
       " 0.0  0.0  0.0  0.0  0.0  0.0  0.0  0.0  0.0\n",
       " 0.0  0.0  0.0  0.0  0.0  0.0  0.0  0.0  0.0\n",
       " 0.0  0.0  0.0  0.0  0.0  0.0  0.0  0.0  0.0\n",
       " 0.0  0.0  0.0  0.0  0.0  0.0  0.0  0.0  0.0\n",
       "\n",
       "[:, :, 7] =\n",
       " 0.0  0.0  0.0  0.0  0.0  0.0  0.0  0.0  0.0\n",
       " 0.0  0.0  0.0  0.0  0.0  0.0  0.0  0.0  0.0\n",
       " 0.0  0.0  0.0  0.0  0.0  0.0  0.0  0.0  0.0\n",
       " 0.0  0.0  0.0  0.0  0.0  0.0  0.0  0.0  0.0\n",
       " 0.0  0.0  0.0  0.0  0.0  0.0  0.0  0.0  0.0\n",
       " 0.0  0.0  0.0  0.0  0.0  0.0  0.0  0.0  0.0"
      ]
     },
     "execution_count": 113,
     "metadata": {},
     "output_type": "execute_result"
    }
   ],
   "source": [
    "c.data"
   ]
  },
  {
   "cell_type": "markdown",
   "id": "01321e16-f602-46db-acb6-694630e91ee9",
   "metadata": {},
   "source": [
    "Which is an `OffsetArray` that is itself wrapped around an underlying plain vanilla `Array`.\n",
    "The underlying array can be accessed using the function `parent` (or by writing `c.data.parent`):"
   ]
  },
  {
   "cell_type": "code",
   "execution_count": 114,
   "id": "38326859-eb3a-4302-8fb1-baccf9b4969c",
   "metadata": {},
   "outputs": [
    {
     "data": {
      "text/plain": [
       "6×9×10 Array{Float64, 3}:\n",
       "[:, :, 1] =\n",
       " 0.0  0.0  0.0  0.0  0.0  0.0  0.0  0.0  0.0\n",
       " 0.0  0.0  0.0  0.0  0.0  0.0  0.0  0.0  0.0\n",
       " 0.0  0.0  0.0  0.0  0.0  0.0  0.0  0.0  0.0\n",
       " 0.0  0.0  0.0  0.0  0.0  0.0  0.0  0.0  0.0\n",
       " 0.0  0.0  0.0  0.0  0.0  0.0  0.0  0.0  0.0\n",
       " 0.0  0.0  0.0  0.0  0.0  0.0  0.0  0.0  0.0\n",
       "\n",
       "[:, :, 2] =\n",
       " 0.0  0.0  0.0  0.0  0.0  0.0  0.0  0.0  0.0\n",
       " 0.0  0.0  0.0  0.0  0.0  0.0  0.0  0.0  0.0\n",
       " 0.0  0.0  0.0  0.0  0.0  0.0  0.0  0.0  0.0\n",
       " 0.0  0.0  0.0  0.0  0.0  0.0  0.0  0.0  0.0\n",
       " 0.0  0.0  0.0  0.0  0.0  0.0  0.0  0.0  0.0\n",
       " 0.0  0.0  0.0  0.0  0.0  0.0  0.0  0.0  0.0\n",
       "\n",
       "[:, :, 3] =\n",
       " 0.0  0.0  0.0  0.0  0.0  0.0  0.0  0.0  0.0\n",
       " 0.0  0.0  0.0  0.0  0.0  0.0  0.0  0.0  0.0\n",
       " 0.0  0.0  0.0  0.0  0.0  0.0  0.0  0.0  0.0\n",
       " 0.0  0.0  0.0  0.0  0.0  0.0  0.0  0.0  0.0\n",
       " 0.0  0.0  0.0  0.0  0.0  0.0  0.0  0.0  0.0\n",
       " 0.0  0.0  0.0  0.0  0.0  0.0  0.0  0.0  0.0\n",
       "\n",
       "[:, :, 4] =\n",
       " 0.0  0.0  0.0  0.0       0.0       0.0       0.0  0.0  0.0\n",
       " 0.0  0.0  0.0  0.0       0.0       0.0       0.0  0.0  0.0\n",
       " 0.0  0.0  0.0  0.549748  0.151851  0.552482  0.0  0.0  0.0\n",
       " 0.0  0.0  0.0  0.401002  0.930264  0.155449  0.0  0.0  0.0\n",
       " 0.0  0.0  0.0  0.0       0.0       0.0       0.0  0.0  0.0\n",
       " 0.0  0.0  0.0  0.0       0.0       0.0       0.0  0.0  0.0\n",
       "\n",
       "[:, :, 5] =\n",
       " 0.0  0.0  0.0  0.0       0.0       0.0        0.0  0.0  0.0\n",
       " 0.0  0.0  0.0  0.0       0.0       0.0        0.0  0.0  0.0\n",
       " 0.0  0.0  0.0  0.17789   0.145093  0.203142   0.0  0.0  0.0\n",
       " 0.0  0.0  0.0  0.323462  0.367217  0.0767212  0.0  0.0  0.0\n",
       " 0.0  0.0  0.0  0.0       0.0       0.0        0.0  0.0  0.0\n",
       " 0.0  0.0  0.0  0.0       0.0       0.0        0.0  0.0  0.0\n",
       "\n",
       "[:, :, 6] =\n",
       " 0.0  0.0  0.0  0.0       0.0       0.0       0.0  0.0  0.0\n",
       " 0.0  0.0  0.0  0.0       0.0       0.0       0.0  0.0  0.0\n",
       " 0.0  0.0  0.0  0.358593  0.95973   0.399396  0.0  0.0  0.0\n",
       " 0.0  0.0  0.0  0.997478  0.193344  0.116034  0.0  0.0  0.0\n",
       " 0.0  0.0  0.0  0.0       0.0       0.0       0.0  0.0  0.0\n",
       " 0.0  0.0  0.0  0.0       0.0       0.0       0.0  0.0  0.0\n",
       "\n",
       "[:, :, 7] =\n",
       " 0.0  0.0  0.0  0.0       0.0       0.0       0.0  0.0  0.0\n",
       " 0.0  0.0  0.0  0.0       0.0       0.0       0.0  0.0  0.0\n",
       " 0.0  0.0  0.0  0.775553  0.100869  0.160673  0.0  0.0  0.0\n",
       " 0.0  0.0  0.0  0.315062  0.541775  0.562844  0.0  0.0  0.0\n",
       " 0.0  0.0  0.0  0.0       0.0       0.0       0.0  0.0  0.0\n",
       " 0.0  0.0  0.0  0.0       0.0       0.0       0.0  0.0  0.0\n",
       "\n",
       "[:, :, 8] =\n",
       " 0.0  0.0  0.0  0.0  0.0  0.0  0.0  0.0  0.0\n",
       " 0.0  0.0  0.0  0.0  0.0  0.0  0.0  0.0  0.0\n",
       " 0.0  0.0  0.0  0.0  0.0  0.0  0.0  0.0  0.0\n",
       " 0.0  0.0  0.0  0.0  0.0  0.0  0.0  0.0  0.0\n",
       " 0.0  0.0  0.0  0.0  0.0  0.0  0.0  0.0  0.0\n",
       " 0.0  0.0  0.0  0.0  0.0  0.0  0.0  0.0  0.0\n",
       "\n",
       "[:, :, 9] =\n",
       " 0.0  0.0  0.0  0.0  0.0  0.0  0.0  0.0  0.0\n",
       " 0.0  0.0  0.0  0.0  0.0  0.0  0.0  0.0  0.0\n",
       " 0.0  0.0  0.0  0.0  0.0  0.0  0.0  0.0  0.0\n",
       " 0.0  0.0  0.0  0.0  0.0  0.0  0.0  0.0  0.0\n",
       " 0.0  0.0  0.0  0.0  0.0  0.0  0.0  0.0  0.0\n",
       " 0.0  0.0  0.0  0.0  0.0  0.0  0.0  0.0  0.0\n",
       "\n",
       "[:, :, 10] =\n",
       " 0.0  0.0  0.0  0.0  0.0  0.0  0.0  0.0  0.0\n",
       " 0.0  0.0  0.0  0.0  0.0  0.0  0.0  0.0  0.0\n",
       " 0.0  0.0  0.0  0.0  0.0  0.0  0.0  0.0  0.0\n",
       " 0.0  0.0  0.0  0.0  0.0  0.0  0.0  0.0  0.0\n",
       " 0.0  0.0  0.0  0.0  0.0  0.0  0.0  0.0  0.0\n",
       " 0.0  0.0  0.0  0.0  0.0  0.0  0.0  0.0  0.0"
      ]
     },
     "execution_count": 114,
     "metadata": {},
     "output_type": "execute_result"
    }
   ],
   "source": [
    "parent(c)"
   ]
  },
  {
   "cell_type": "markdown",
   "id": "5f352f08-3fd0-4673-8819-dfb73cd837c4",
   "metadata": {},
   "source": [
    "Note that a lot of the data is `0.0`. That's because `c` has \"halo regions\" that surround the meaningful, \"interior\" data. To inspect just the `interior` data of `c` we call"
   ]
  },
  {
   "cell_type": "code",
   "execution_count": 115,
   "id": "224040f6-8e38-43f1-8453-64d1a13131a1",
   "metadata": {},
   "outputs": [
    {
     "data": {
      "text/plain": [
       "2×3×4 view(::Array{Float64, 3}, 3:4, 4:6, 4:7) with eltype Float64:\n",
       "[:, :, 1] =\n",
       " 0.549748  0.151851  0.552482\n",
       " 0.401002  0.930264  0.155449\n",
       "\n",
       "[:, :, 2] =\n",
       " 0.17789   0.145093  0.203142\n",
       " 0.323462  0.367217  0.0767212\n",
       "\n",
       "[:, :, 3] =\n",
       " 0.358593  0.95973   0.399396\n",
       " 0.997478  0.193344  0.116034\n",
       "\n",
       "[:, :, 4] =\n",
       " 0.775553  0.100869  0.160673\n",
       " 0.315062  0.541775  0.562844"
      ]
     },
     "execution_count": 115,
     "metadata": {},
     "output_type": "execute_result"
    }
   ],
   "source": [
    "interior(c)"
   ]
  },
  {
   "cell_type": "markdown",
   "id": "917cbf70-59b9-4267-bc9e-e90eb0a94f42",
   "metadata": {},
   "source": [
    "### Statistics\n",
    "\n",
    "There's a few simple things we can do,"
   ]
  },
  {
   "cell_type": "code",
   "execution_count": 116,
   "id": "8dd5c868-6330-48be-bc82-e9bf7eea3bb7",
   "metadata": {},
   "outputs": [
    {
     "data": {
      "text/plain": [
       "0.3964863374449474"
      ]
     },
     "execution_count": 116,
     "metadata": {},
     "output_type": "execute_result"
    }
   ],
   "source": [
    "using Statistics\n",
    "\n",
    "mean(c)"
   ]
  },
  {
   "cell_type": "code",
   "execution_count": 117,
   "id": "e0f69bed-e201-4178-9c89-6acb9dd1f3bc",
   "metadata": {},
   "outputs": [
    {
     "data": {
      "text/plain": [
       "0.997478080808811"
      ]
     },
     "execution_count": 117,
     "metadata": {},
     "output_type": "execute_result"
    }
   ],
   "source": [
    "maximum(c)"
   ]
  },
  {
   "cell_type": "code",
   "execution_count": 118,
   "id": "2afd4aa0-3873-4ae7-be6f-8efd70758d97",
   "metadata": {},
   "outputs": [
    {
     "data": {
      "text/plain": [
       "0.0767212375514742"
      ]
     },
     "execution_count": 118,
     "metadata": {},
     "output_type": "execute_result"
    }
   ],
   "source": [
    "minimum(c)"
   ]
  },
  {
   "cell_type": "markdown",
   "id": "eeb8a794-c249-4c0d-b086-30ef08e19771",
   "metadata": {},
   "source": [
    "### Operations\n",
    "\n",
    "Here's where things get interesting.\n",
    "Oceananigans has a system for building expression trees that represent calculus, arithmetic, and other operations on and between `Field`s.\n",
    "For example,"
   ]
  },
  {
   "cell_type": "code",
   "execution_count": 119,
   "id": "926ab667-e7ba-40b1-8ddf-28f22d46c2b0",
   "metadata": {},
   "outputs": [
    {
     "data": {
      "text/plain": [
       "BinaryOperation at (Center, Center, Center)\n",
       "├── grid: 2×3×4 RectilinearGrid{Float64, Periodic, Periodic, Bounded} on CPU with 2×3×3 halo\n",
       "└── tree: \n",
       "    * at (Center, Center, Center)\n",
       "    ├── 2\n",
       "    └── 2×3×4 Field{Center, Center, Center} on RectilinearGrid on CPU"
      ]
     },
     "execution_count": 119,
     "metadata": {},
     "output_type": "execute_result"
    }
   ],
   "source": [
    "two_c = 2 * c"
   ]
  },
  {
   "cell_type": "markdown",
   "id": "920d7f39-2a71-4c35-b25f-869f4375d901",
   "metadata": {},
   "source": [
    "`two_c` represents the operation `2 * c`. It can be indexed into, like a `Field`,"
   ]
  },
  {
   "cell_type": "code",
   "execution_count": 120,
   "id": "c1a9a520-936d-4c37-b2d2-2ec022a13078",
   "metadata": {},
   "outputs": [
    {
     "data": {
      "text/plain": [
       "true"
      ]
     },
     "execution_count": 120,
     "metadata": {},
     "output_type": "execute_result"
    }
   ],
   "source": [
    "two_c[1, 1, 1] == 2 * c[1, 1, 1]"
   ]
  },
  {
   "cell_type": "markdown",
   "id": "098c0c76-45c7-4fb9-8545-c98904a78d1c",
   "metadata": {},
   "source": [
    "But `two_c` doesn't actually have any underlying data -- no memory has been allocated to store the result `2 * c`.\n",
    "Instead, `two_c` is a _lazy_ representation of `2 * c`.\n",
    "To allocate memory for `two_c` we wrap it inside a `Field`,"
   ]
  },
  {
   "cell_type": "code",
   "execution_count": 121,
   "id": "5ff195c6-e33f-4c9c-9f53-5f46dea0fabe",
   "metadata": {},
   "outputs": [
    {
     "data": {
      "text/plain": [
       "2×3×4 Field{Center, Center, Center} on RectilinearGrid on CPU\n",
       "├── grid: 2×3×4 RectilinearGrid{Float64, Periodic, Periodic, Bounded} on CPU with 2×3×3 halo\n",
       "├── boundary conditions: FieldBoundaryConditions\n",
       "│   └── west: Periodic, east: Periodic, south: Periodic, north: Periodic, bottom: ZeroFlux, top: ZeroFlux, immersed: ZeroFlux\n",
       "├── operand: BinaryOperation at (Center, Center, Center)\n",
       "├── status: time=0.0\n",
       "└── data: 6×9×10 OffsetArray(::Array{Float64, 3}, -1:4, -2:6, -2:7) with eltype Float64 with indices -1:4×-2:6×-2:7\n",
       "    └── max=0.0, min=0.0, mean=0.0"
      ]
     },
     "execution_count": 121,
     "metadata": {},
     "output_type": "execute_result"
    }
   ],
   "source": [
    "two_c_field = Field(two_c)"
   ]
  },
  {
   "cell_type": "markdown",
   "id": "1abf5eeb-adad-4c5f-b0e4-7ea7c52ad4dc",
   "metadata": {},
   "source": [
    "Note that it's initialized to `0`.\n",
    "We've got to `compute!` with intention, so"
   ]
  },
  {
   "cell_type": "code",
   "execution_count": 122,
   "id": "bfe18d4a-1cc1-471f-a206-62e98ab6a02f",
   "metadata": {},
   "outputs": [
    {
     "data": {
      "text/plain": [
       "BinaryOperation at (Center, Center, Center)\n",
       "├── grid: 2×3×4 RectilinearGrid{Float64, Periodic, Periodic, Bounded} on CPU with 2×3×3 halo\n",
       "└── tree: \n",
       "    * at (Center, Center, Center)\n",
       "    ├── 2\n",
       "    └── 2×3×4 Field{Center, Center, Center} on RectilinearGrid on CPU"
      ]
     },
     "execution_count": 122,
     "metadata": {},
     "output_type": "execute_result"
    }
   ],
   "source": [
    "compute!(two_c)"
   ]
  },
  {
   "cell_type": "markdown",
   "id": "f101a775-c4fc-4cdd-bf27-d2ce059fd8ac",
   "metadata": {},
   "source": [
    "Operations can get complicated.\n",
    "For example"
   ]
  },
  {
   "cell_type": "code",
   "execution_count": 123,
   "id": "9552f934-0fc3-4b38-a7b0-9adffc014824",
   "metadata": {},
   "outputs": [
    {
     "data": {
      "text/plain": [
       "MultiaryOperation at (Center, Center, Center)\n",
       "├── grid: 2×3×4 RectilinearGrid{Float64, Periodic, Periodic, Bounded} on CPU with 2×3×3 halo\n",
       "└── tree: \n",
       "    + at (Center, Center, Center)\n",
       "    ├── ∂xᶜᶜᶜ at (Center, Center, Center) via identity\n",
       "    │   └── ∂xᶠᶜᶜ at (Face, Center, Center) via identity\n",
       "        │   └── 2×3×4 Field{Center, Center, Center} on RectilinearGrid on CPU\n",
       "    ├── ∂yᶜᶜᶜ at (Center, Center, Center) via identity\n",
       "    │   └── ∂yᶜᶠᶜ at (Center, Face, Center) via identity\n",
       "        │   └── 2×3×4 Field{Center, Center, Center} on RectilinearGrid on CPU\n",
       "    └── ∂zᶜᶜᶜ at (Center, Center, Center) via identity\n",
       "        └── ∂zᶜᶜᶠ at (Center, Center, Face) via identity\n",
       "            └── 2×3×4 Field{Center, Center, Center} on RectilinearGrid on CPU"
      ]
     },
     "execution_count": 123,
     "metadata": {},
     "output_type": "execute_result"
    }
   ],
   "source": [
    "∇²c = ∂x(∂x(c)) + ∂y(∂y(c)) + ∂z(∂z(c))"
   ]
  },
  {
   "cell_type": "markdown",
   "id": "b6868a23-ed5d-4f91-afbf-152a608a7d47",
   "metadata": {},
   "source": [
    "We can even write a simple code to solve the heat equation,\n",
    "\n",
    "$$ c^{n+1} = c^n + Δt ∇²c^n $$"
   ]
  },
  {
   "cell_type": "code",
   "execution_count": 124,
   "id": "76ccc3aa-da49-459c-93c0-a89425e8d092",
   "metadata": {},
   "outputs": [
    {
     "name": "stdout",
     "output_type": "stream",
     "text": [
      "extrema(c) = (-2.0675597013172933, 1.1302827922585965)\n",
      "mean(c) = -0.2194256450025774\n",
      "mean(c) = -0.22093173265346708\n",
      "extrema(c) = (-0.2434727273712095, -0.1980952021304007)\n"
     ]
    },
    {
     "data": {
      "text/plain": [
       "(-0.2434727273712095, -0.1980952021304007)"
      ]
     },
     "execution_count": 124,
     "metadata": {},
     "output_type": "execute_result"
    }
   ],
   "source": [
    "using Oceananigans.BoundaryConditions: fill_halo_regions!\n",
    "\n",
    "set!(c, random_data)\n",
    "@show extrema(c)\n",
    "@show mean(c)\n",
    "\n",
    "Δt = 1e-3\n",
    "\n",
    "for n = 1:1000\n",
    "    fill_halo_regions!(c)\n",
    "    c .+= Δt * ∇²c\n",
    "end\n",
    "\n",
    "@show mean(c)\n",
    "@show extrema(c)"
   ]
  },
  {
   "cell_type": "markdown",
   "id": "770bd7d8-ffba-4c3e-ae56-66c4a0b8bde1",
   "metadata": {},
   "source": [
    "## Reductions\n",
    "\n",
    "Oceananigans also has a system for building lazy representations of `Reduction`.\n",
    "Important reductions include `Average` and `Interval`, though other reductions like `maximum` are also supported.\n",
    "For example,"
   ]
  },
  {
   "cell_type": "code",
   "execution_count": 125,
   "id": "732d21a6-4268-4f42-a3bb-32a2f1d2c8c2",
   "metadata": {},
   "outputs": [
    {
     "data": {
      "text/plain": [
       "mean! over dims (1, 2) of 2×3×4 Field{Center, Center, Center} on RectilinearGrid on CPU\n",
       "└── operand: 2×3×4 Field{Center, Center, Center} on RectilinearGrid on CPU\n",
       "    └── grid: 2×3×4 RectilinearGrid{Float64, Periodic, Periodic, Bounded} on CPU with 2×3×3 halo"
      ]
     },
     "execution_count": 125,
     "metadata": {},
     "output_type": "execute_result"
    }
   ],
   "source": [
    "set!(c, random_data)\n",
    "c_avg = Average(c, dims=(1, 2))"
   ]
  },
  {
   "cell_type": "markdown",
   "id": "a2908bca-bb68-495c-a0df-21fa252881f3",
   "metadata": {},
   "source": [
    "Notice that building a `Reduction` requires specifying the `dims` of the reduction; `dims=(1, 2)` indicates an average over $x, y$.\n",
    "Likewise, `dims=3` averages in $z$.\n",
    "Unlike operations, `Reduction`s cannot be indexed into,"
   ]
  },
  {
   "cell_type": "code",
   "execution_count": 126,
   "id": "6c1949d6-d75b-4200-9396-0afd1772e1a8",
   "metadata": {},
   "outputs": [
    {
     "ename": "LoadError",
     "evalue": "MethodError: no method matching getindex(::Reduction{typeof(mean!), Field{Center, Center, Center, Nothing, RectilinearGrid{Float64, Periodic, Periodic, Bounded, Float64, Float64, Float64, OffsetArrays.OffsetVector{Float64, StepRangeLen{Float64, Base.TwicePrecision{Float64}, Base.TwicePrecision{Float64}, Int64}}, OffsetArrays.OffsetVector{Float64, StepRangeLen{Float64, Base.TwicePrecision{Float64}, Base.TwicePrecision{Float64}, Int64}}, OffsetArrays.OffsetVector{Float64, StepRangeLen{Float64, Base.TwicePrecision{Float64}, Base.TwicePrecision{Float64}, Int64}}, CPU}, Tuple{Colon, Colon, Colon}, OffsetArrays.OffsetArray{Float64, 3, Array{Float64, 3}}, Float64, FieldBoundaryConditions{BoundaryCondition{Oceananigans.BoundaryConditions.Periodic, Nothing}, BoundaryCondition{Oceananigans.BoundaryConditions.Periodic, Nothing}, BoundaryCondition{Oceananigans.BoundaryConditions.Periodic, Nothing}, BoundaryCondition{Oceananigans.BoundaryConditions.Periodic, Nothing}, BoundaryCondition{Oceananigans.BoundaryConditions.Flux, Nothing}, BoundaryCondition{Oceananigans.BoundaryConditions.Flux, Nothing}, BoundaryCondition{Oceananigans.BoundaryConditions.Flux, Nothing}}, Nothing, Oceananigans.Fields.FieldBoundaryBuffers{Nothing, Nothing, Nothing, Nothing, Nothing, Nothing, Nothing, Nothing}}, Tuple{Int64, Int64}}, ::Int64, ::Int64, ::Int64)",
     "output_type": "error",
     "traceback": [
      "MethodError: no method matching getindex(::Reduction{typeof(mean!), Field{Center, Center, Center, Nothing, RectilinearGrid{Float64, Periodic, Periodic, Bounded, Float64, Float64, Float64, OffsetArrays.OffsetVector{Float64, StepRangeLen{Float64, Base.TwicePrecision{Float64}, Base.TwicePrecision{Float64}, Int64}}, OffsetArrays.OffsetVector{Float64, StepRangeLen{Float64, Base.TwicePrecision{Float64}, Base.TwicePrecision{Float64}, Int64}}, OffsetArrays.OffsetVector{Float64, StepRangeLen{Float64, Base.TwicePrecision{Float64}, Base.TwicePrecision{Float64}, Int64}}, CPU}, Tuple{Colon, Colon, Colon}, OffsetArrays.OffsetArray{Float64, 3, Array{Float64, 3}}, Float64, FieldBoundaryConditions{BoundaryCondition{Oceananigans.BoundaryConditions.Periodic, Nothing}, BoundaryCondition{Oceananigans.BoundaryConditions.Periodic, Nothing}, BoundaryCondition{Oceananigans.BoundaryConditions.Periodic, Nothing}, BoundaryCondition{Oceananigans.BoundaryConditions.Periodic, Nothing}, BoundaryCondition{Oceananigans.BoundaryConditions.Flux, Nothing}, BoundaryCondition{Oceananigans.BoundaryConditions.Flux, Nothing}, BoundaryCondition{Oceananigans.BoundaryConditions.Flux, Nothing}}, Nothing, Oceananigans.Fields.FieldBoundaryBuffers{Nothing, Nothing, Nothing, Nothing, Nothing, Nothing, Nothing, Nothing}}, Tuple{Int64, Int64}}, ::Int64, ::Int64, ::Int64)",
      "",
      "Stacktrace:",
      " [1] top-level scope",
      "   @ In[126]:1"
     ]
    }
   ],
   "source": [
    "c_avg[1, 1, 1]"
   ]
  },
  {
   "cell_type": "markdown",
   "id": "6a51e228-9d7b-4528-93bf-6c534d40b61c",
   "metadata": {},
   "source": [
    "This is because by definition a `Reduction` cannot be computed locally;\n",
    "instead we must compute the reduction in a separate step, and then evaluate it's data afterwards.\n",
    "To evaluate a `Reduction` we wrap it within a `Field`,"
   ]
  },
  {
   "cell_type": "code",
   "execution_count": 127,
   "id": "1fa4d4f1-278c-49a9-8f7c-b95d50093f22",
   "metadata": {},
   "outputs": [
    {
     "data": {
      "text/plain": [
       "1×1×4 view(::Array{Float64, 3}, 1:1, 1:1, 4:7) with eltype Float64:\n",
       "[:, :, 1] =\n",
       " -0.32902900538089624\n",
       "\n",
       "[:, :, 2] =\n",
       " -0.4297366708129102\n",
       "\n",
       "[:, :, 3] =\n",
       " 0.9995448273825986\n",
       "\n",
       "[:, :, 4] =\n",
       " -0.08421665094546449"
      ]
     },
     "execution_count": 127,
     "metadata": {},
     "output_type": "execute_result"
    }
   ],
   "source": [
    "c_avg_field = Field(c_avg)\n",
    "compute!(c_avg_field)\n",
    "interior(c_avg_field)"
   ]
  },
  {
   "cell_type": "markdown",
   "id": "ff164ffb-0136-48e8-a2e6-5a86043a0375",
   "metadata": {},
   "source": [
    "Note that `c_avg_field` has location `(Nothing, Nothing, Center)` --- it has \"no location\" in $x, y$."
   ]
  },
  {
   "cell_type": "code",
   "execution_count": null,
   "id": "42864934-9e1e-4198-a522-f34620dfa110",
   "metadata": {},
   "outputs": [],
   "source": []
  }
 ],
 "metadata": {
  "kernelspec": {
   "display_name": "Julia 1.10.0",
   "language": "julia",
   "name": "julia-1.10"
  },
  "language_info": {
   "file_extension": ".jl",
   "mimetype": "application/julia",
   "name": "julia",
   "version": "1.10.0"
  }
 },
 "nbformat": 4,
 "nbformat_minor": 5
}
