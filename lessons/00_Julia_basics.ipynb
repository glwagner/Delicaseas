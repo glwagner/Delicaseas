{
 "cells": [
  {
   "cell_type": "markdown",
   "id": "fd1e413e-370b-4342-93f2-19973dc53ed5",
   "metadata": {},
   "source": [
    "# Can be used as a calculator, like MATLAB"
   ]
  },
  {
   "cell_type": "code",
   "execution_count": null,
   "id": "d9291e02-a6b4-4531-ac5b-cd4391d13a1e",
   "metadata": {},
   "outputs": [],
   "source": [
    "A = rand(4, 4)"
   ]
  },
  {
   "cell_type": "code",
   "execution_count": 4,
   "id": "a277f950-4ee8-4562-bc95-f4412863eeb0",
   "metadata": {},
   "outputs": [
    {
     "data": {
      "text/plain": [
       "4×4 Matrix{Float64}:\n",
       " 0.510303  1.29694   1.77454    0.327535\n",
       " 1.51629   0.460503  0.0230757  0.412156\n",
       " 1.75127   0.713547  1.97416    0.51041\n",
       " 0.876847  1.20551   1.62937    1.98022"
      ]
     },
     "execution_count": 4,
     "metadata": {},
     "output_type": "execute_result"
    }
   ],
   "source": [
    "B = 2 .* ones(4, 4)\n",
    "C = A .* B"
   ]
  },
  {
   "cell_type": "code",
   "execution_count": 6,
   "id": "16028f4e-4158-4a24-b864-932610c8a003",
   "metadata": {},
   "outputs": [
    {
     "data": {
      "text/plain": [
       "4×4 Matrix{Float64}:\n",
       " 0.0       0.648472  0.887271   0.163767\n",
       " 0.758145  0.230252  0.0115379  0.206078\n",
       " 0.875635  0.356773  0.987082   0.255205\n",
       " 0.438424  0.602754  0.814685   0.990112"
      ]
     },
     "execution_count": 6,
     "metadata": {},
     "output_type": "execute_result"
    }
   ],
   "source": [
    "A[1, 1] = 0\n",
    "A"
   ]
  },
  {
   "cell_type": "code",
   "execution_count": 8,
   "id": "d8db0222-bf52-4e08-8bd3-72f812327f70",
   "metadata": {},
   "outputs": [
    {
     "data": {
      "text/plain": [
       "4×4 Matrix{Float64}:\n",
       " 0.0       0.648472  0.887271   0.163767\n",
       " 0.758145  1.0       0.0115379  0.206078\n",
       " 0.875635  0.356773  0.987082   0.255205\n",
       " 0.438424  0.602754  0.814685   0.990112"
      ]
     },
     "execution_count": 8,
     "metadata": {},
     "output_type": "execute_result"
    }
   ],
   "source": [
    "D = A\n",
    "D[2, 2] = 1\n",
    "A # D and A are the same"
   ]
  },
  {
   "cell_type": "markdown",
   "id": "36af41cf-3b0a-4029-bc44-d15afef5b1af",
   "metadata": {},
   "source": [
    "# Packages and package management"
   ]
  },
  {
   "cell_type": "code",
   "execution_count": 10,
   "id": "023cc784-22d2-443c-97ec-e03a87eb5fa0",
   "metadata": {},
   "outputs": [
    {
     "data": {
      "text/plain": [
       "0.562246252295428"
      ]
     },
     "execution_count": 10,
     "metadata": {},
     "output_type": "execute_result"
    }
   ],
   "source": [
    "using Statistics\n",
    "mean(A)"
   ]
  },
  {
   "cell_type": "code",
   "execution_count": 12,
   "id": "39478a33-dc69-466c-9486-adecd61c2ef8",
   "metadata": {},
   "outputs": [
    {
     "name": "stderr",
     "output_type": "stream",
     "text": [
      "\u001b[32m\u001b[1m   Resolving\u001b[22m\u001b[39m package versions...\n",
      "\u001b[32m\u001b[1m  No Changes\u001b[22m\u001b[39m to `~/Projects/SaltySnacks.jl/Project.toml`\n",
      "\u001b[32m\u001b[1m  No Changes\u001b[22m\u001b[39m to `~/Projects/SaltySnacks.jl/Manifest.toml`\n"
     ]
    }
   ],
   "source": [
    "using Pkg # the package manager\n",
    "Pkg.add(\"Oceananigans\")"
   ]
  },
  {
   "cell_type": "code",
   "execution_count": 13,
   "id": "06afc388-ebf2-49d1-9e09-a2a3938e9a21",
   "metadata": {},
   "outputs": [],
   "source": [
    "using Oceananigans"
   ]
  },
  {
   "cell_type": "markdown",
   "id": "0c137336-b3f7-49f2-8aa9-f1bfb84ef50a",
   "metadata": {},
   "source": [
    "# Types, constructors, functions, keyword arguments"
   ]
  },
  {
   "cell_type": "code",
   "execution_count": null,
   "id": "35515618-f49d-4b10-bfe5-28926577057f",
   "metadata": {},
   "outputs": [],
   "source": []
  }
 ],
 "metadata": {
  "kernelspec": {
   "display_name": "Julia 1.10.0",
   "language": "julia",
   "name": "julia-1.10"
  },
  "language_info": {
   "file_extension": ".jl",
   "mimetype": "application/julia",
   "name": "julia",
   "version": "1.10.0"
  }
 },
 "nbformat": 4,
 "nbformat_minor": 5
}
